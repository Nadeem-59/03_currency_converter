{
  "nbformat": 4,
  "nbformat_minor": 0,
  "metadata": {
    "colab": {
      "provenance": [],
      "authorship_tag": "ABX9TyNgbliBLtpao1A/GvZJpfiM",
      "include_colab_link": true
    },
    "kernelspec": {
      "name": "python3",
      "display_name": "Python 3"
    },
    "language_info": {
      "name": "python"
    }
  },
  "cells": [
    {
      "cell_type": "markdown",
      "metadata": {
        "id": "view-in-github",
        "colab_type": "text"
      },
      "source": [
        "<a href=\"https://colab.research.google.com/github/Nadeem-59/03_currency_converter/blob/main/Mad_Libs_Game.ipynb\" target=\"_parent\"><img src=\"https://colab.research.google.com/assets/colab-badge.svg\" alt=\"Open In Colab\"/></a>"
      ]
    },
    {
      "cell_type": "markdown",
      "source": [
        "# Mad Libs Game Python\n"
      ],
      "metadata": {
        "id": "-BiiFC6A_fbU"
      }
    },
    {
      "cell_type": "code",
      "source": [
        "# user se input lena hai\n",
        "name = input(\"Enter the girl name:\")\n",
        "program_language = input(\"Enter the programming language (e.g:python,next.js,typescript):\")\n",
        "mentor = input(\"Enter the mentor name:\")\n",
        "\n",
        "#story created\n",
        "print(\"\\n here is my little story based on mad lib game\")\n",
        "print(f\"once upon a time,there is a girl named {name}.\")\n",
        "print (f\"{name} was very curious and always want to learn new things\")\n",
        "print (f\"One day he decided to learn {program_language} language at governer house!\")\n",
        "print (f\"Luckily {name} found a great mentor name as {mentor} who was an expert in {program_language}\")\n",
        "print (\"And so,his journey continues...!\")\n",
        "\n",
        "\n",
        "#story created\n",
        "print(\"\\n here is my little story based on mad lib game\")\n",
        "print(f\"once upon a time,there is a girl named {name}.\")\n",
        "print (f\"{name} was very curious and always want to learn new things\")\n",
        "print (f\"One day he decided to learn {program_language} language at governer house!\")\n",
        "print (f\"Luckily {name} found a great mentor name as {mentor} who was an expert{program_language}\")\n",
        "print (\"And so,his journey continues...!\")\n"
      ],
      "metadata": {
        "colab": {
          "base_uri": "https://localhost:8080/"
        },
        "id": "EfgUFKRoApit",
        "outputId": "d48a2ece-2ebf-4a38-afd1-b9ed6c3f73a5"
      },
      "execution_count": 3,
      "outputs": [
        {
          "output_type": "stream",
          "name": "stdout",
          "text": [
            "Enter the girl name:maha\n",
            "Enter the programming language (e.g:python,next.js,typescript):python\n",
            "Enter the mentor name:bilal\n",
            "\n",
            " here is my little story based on mad lib game\n",
            "once upon a time,there is a girl named maha.\n",
            "maha was very curious and always want to learn new things\n",
            "One day he decided to learn python language at governer house!\n",
            "Luckily maha found a great mentor name as bilal who was an expert in python\n",
            "And so,his journey continues...!\n",
            "\n",
            " here is my little story based on mad lib game\n",
            "once upon a time,there is a girl named maha.\n",
            "maha was very curious and always want to learn new things\n",
            "One day he decided to learn python language at governer house!\n",
            "Luckily maha found a great mentor name as bilal who was an expertpython\n",
            "And so,his journey continues...!\n"
          ]
        }
      ]
    }
  ]
}